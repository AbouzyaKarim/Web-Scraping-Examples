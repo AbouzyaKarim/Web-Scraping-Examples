{
 "cells": [
  {
   "cell_type": "code",
   "execution_count": null,
   "id": "7c331c6d",
   "metadata": {},
   "outputs": [],
   "source": [
    "# requests: make HTTP requests\n",
    "# Beautiful: library for parsing HTML and XML documents; in order to extract data.\n",
    "# Pandas: library for data manipulation.\n",
    "import  requests\n",
    "from  bs4 import BeautifulSoup\n",
    "import  pandas as pd\n",
    "page=requests.get('https://forecast.weather.gov/MapClick.php?x=190&y=120&site=okx&zmx=&zmy=&map_x=189&map_y=119#.XWpFOJNKg1I')\n",
    "soup=BeautifulSoup(page.content,'html.parser')\n",
    "print(soup.prettify())"
   ]
  },
  {
   "cell_type": "code",
   "execution_count": null,
   "id": "3e3e6622",
   "metadata": {},
   "outputs": [],
   "source": [
    "week = soup.find(id='seven-day-forecast-container')\n",
    "print(week.prettify())"
   ]
  },
  {
   "cell_type": "code",
   "execution_count": 3,
   "id": "a5a79f2a",
   "metadata": {},
   "outputs": [
    {
     "name": "stdout",
     "output_type": "stream",
     "text": [
      "['Today', 'Tonight', 'Friday', 'FridayNight', 'Saturday', 'SaturdayNight', 'Sunday', 'SundayNight', 'Monday']\n",
      "['Sunny', 'Clear', 'Mostly Sunny', 'Partly Cloudy', 'Sunny', 'Mostly Clear', 'IncreasingClouds', 'Mostly Cloudythen ChanceShowers', 'ShowersLikely']\n",
      "['High: 62 °F', 'Low: 39 °F', 'High: 56 °F', 'Low: 35 °F', 'High: 59 °F', 'Low: 40 °F', 'High: 61 °F', 'Low: 50 °F', 'High: 64 °F']\n"
     ]
    }
   ],
   "source": [
    "items=week.find_all(class_='tombstone-container')\n",
    "#print(items[0])\n",
    "period_names=[item.find(class_='period-name').get_text() for item in items]\n",
    "short_descriptions=[item.find(class_='short-desc').get_text() for item in items]\n",
    "temperatures=[item.find(class_='temp').get_text() for item in items]\n",
    "\n",
    "print(period_names)\n",
    "print(short_descriptions)\n",
    "print(temperatures)"
   ]
  },
  {
   "cell_type": "code",
   "execution_count": 4,
   "id": "75fea70f",
   "metadata": {
    "scrolled": true
   },
   "outputs": [
    {
     "name": "stdout",
     "output_type": "stream",
     "text": [
      "          period               short_descriptions temperatures\n",
      "0          Today                            Sunny  High: 62 °F\n",
      "1        Tonight                            Clear   Low: 39 °F\n",
      "2         Friday                     Mostly Sunny  High: 56 °F\n",
      "3    FridayNight                    Partly Cloudy   Low: 35 °F\n",
      "4       Saturday                            Sunny  High: 59 °F\n",
      "5  SaturdayNight                     Mostly Clear   Low: 40 °F\n",
      "6         Sunday                 IncreasingClouds  High: 61 °F\n",
      "7    SundayNight  Mostly Cloudythen ChanceShowers   Low: 50 °F\n",
      "8         Monday                    ShowersLikely  High: 64 °F\n"
     ]
    }
   ],
   "source": [
    "weather_stuff=pd.DataFrame(\n",
    "    {\n",
    "        'period':period_names,\n",
    "        'short_descriptions':short_descriptions,\n",
    "         'temperatures': temperatures,\n",
    "        \n",
    "    }\n",
    ")\n",
    "print(weather_stuff)"
   ]
  },
  {
   "cell_type": "code",
   "execution_count": 31,
   "id": "0a13f7a6",
   "metadata": {},
   "outputs": [],
   "source": [
    "weather_stuff.to_csv('weather_m11_2.csv')"
   ]
  },
  {
   "cell_type": "code",
   "execution_count": 6,
   "id": "41ebde2a",
   "metadata": {},
   "outputs": [],
   "source": [
    "weather_stuff.to_json('weather_m11_22.json')"
   ]
  },
  {
   "cell_type": "code",
   "execution_count": null,
   "id": "e1267695",
   "metadata": {},
   "outputs": [],
   "source": []
  }
 ],
 "metadata": {
  "kernelspec": {
   "display_name": "Python 3 (ipykernel)",
   "language": "python",
   "name": "python3"
  },
  "language_info": {
   "codemirror_mode": {
    "name": "ipython",
    "version": 3
   },
   "file_extension": ".py",
   "mimetype": "text/x-python",
   "name": "python",
   "nbconvert_exporter": "python",
   "pygments_lexer": "ipython3",
   "version": "3.9.12"
  }
 },
 "nbformat": 4,
 "nbformat_minor": 5
}
